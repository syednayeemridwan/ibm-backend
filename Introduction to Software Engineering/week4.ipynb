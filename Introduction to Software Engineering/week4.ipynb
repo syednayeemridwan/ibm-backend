{
 "cells": [
  {
   "cell_type": "markdown",
   "metadata": {},
   "source": [
    "# Software Architecture"
   ]
  },
  {
   "cell_type": "markdown",
   "metadata": {},
   "source": [
    "- organization of the software system \n",
    "- A blueprint of interacting components of the software\n",
    "- composed of fundamental structures (modules and submodules) and behaviors\n",
    "- Aims for high cohesion, loose coupling\n",
    "    - high cohesion: all functionality related elements are grouped together\n",
    "    - low coupling: modules should be weakly associated with each other so that any change in one component has minimal affects on other components\n",
    "- captures early design decisions that are costly to change in later phase\n",
    "- Well designed architecture is flexible to changing requirements and increases the lifespan of the software\n",
    "- includes: tech stacks, software, libraries, frameworks\n",
    "- Artifacts: (Communication means of the design to the stakeholders)\n",
    "    - Software Design Document : \n",
    "        - Composed of technical specifications like assumptions, dependencies, constraints, requirements, objectives, methodologies\n",
    "        - Structural components and behavioral attributes are documented\n",
    "    - Architectual Diagrams : \n",
    "        - Displays components, interactions, constraints, confines, architectural patterns (re-usable solution to commonly occuring situations)\n",
    "    - Unified Modeling Language (UML Diagram): \n",
    "        - Visual representation of structure and behavior\n",
    "        - Communicates architecture, design and implementations\n",
    "        - State transition diagram : The diagram of states, conditions, causes and triggers of transitions\n",
    "        - Interaction Diagram : Sequence Diagram that models the dynamic nature of the system and displays interaction between objects with respect to time\n",
    "    - Deployment considerations: \n",
    "        - PRODUCTION ENVIRONMENT choices like servers, load balancers, databases\n",
    "- There are different TYPES OF SOFTWARE ARCHITECTURES: service oriented architecture, component based architecture, object oriented architectural design\n",
    "- ARCHITECTURAL DESIGN PATTERNS: 2-tier, n-tier, event-driven, peer-to-peer, MVC, microservices etc\n",
    "- APPLICATION DEPLOYMENT ENVIRONMENTS: pre-production environment (development environment, qa environment), production environment"
   ]
  },
  {
   "cell_type": "markdown",
   "metadata": {},
   "source": [
    "# Structural Diagram"
   ]
  },
  {
   "cell_type": "markdown",
   "metadata": {},
   "source": [
    "<center><img src=\"images/04.01.png\"  style=\"width: 400px, height: 300px;\"/></center>"
   ]
  },
  {
   "cell_type": "markdown",
   "metadata": {},
   "source": [
    "- Billing is the main module\n",
    "- Others are sub-modules\n",
    "- Arrows represent the flow of data"
   ]
  },
  {
   "cell_type": "markdown",
   "metadata": {},
   "source": [
    "# Behavioral Diagram"
   ]
  },
  {
   "cell_type": "markdown",
   "metadata": {},
   "source": [
    "<center><img src=\"images/04.02.png\"  style=\"width: 400px, height: 300px;\"/></center>\n",
    "<center><img src=\"images/04.03.png\"  style=\"width: 400px, height: 300px;\"/></center>\n"
   ]
  },
  {
   "cell_type": "markdown",
   "metadata": {},
   "source": [
    "- Visually represent the behavior of the system without explaining in details"
   ]
  },
  {
   "cell_type": "markdown",
   "metadata": {},
   "source": [
    "# Class Diagram"
   ]
  },
  {
   "cell_type": "markdown",
   "metadata": {},
   "source": [
    "<center><img src=\"images/04.04.png\"  style=\"width: 400px, height: 300px;\"/></center>\n"
   ]
  },
  {
   "cell_type": "markdown",
   "metadata": {},
   "source": [
    "# TYPES OF ARCHITECTURES\n"
   ]
  },
  {
   "cell_type": "markdown",
   "metadata": {},
   "source": [
    "- Object oriented architecture design (OOAD)\n",
    "    - Design according to class as blueprint and instance of class as objects\n",
    "    - objects interact with each-other\n",
    "    - Class Diagrams (Structural UML diagram) are used to show how objects of different class interact with each other\n",
    "- Component based  architecture\n",
    "    - An individual unit of encapsulated functionality\n",
    "    - Design is decomposed into a set of components\n",
    "    - should be re-usable, replaceable, independent, extensible, encapsulation, non-context specific (operates in different environments)\n",
    "    - Provides Higher level abstraction than objects\n",
    "    - egG: API, controller, Data Access Object \n",
    "- Service Oriented Architecture\n",
    "    - A type of component\n",
    "    - Deployed independently, instead of tied to a specific system\n",
    "    - Talk to each other through a set of protocols\n",
    "    - Designed to be re-used in multiple systems\n",
    "    - Helps to build distributed systems \n",
    "    - Always have one running instance with whom the clients communicate (A running service)\n",
    "    - eg: AWS services\n",
    "- Distributed systems:\n",
    "    -  have multiple services located at different machines (or nodes). \n",
    "    - They share resources\n",
    "    - parrallel in nature\n",
    "    - scalable and fault-tolerant\n",
    "    - may be programmed in different languages, but does not create problem since they talk to each other through HTTP\n",
    "    - Client- Server\n",
    "    - Peer-to-peer\n",
    "    - Three-tier\n",
    "    - Microservices"
   ]
  },
  {
   "cell_type": "markdown",
   "metadata": {},
   "source": [
    "# ARCHITECTURAL DESIGN PATTERNS"
   ]
  },
  {
   "cell_type": "markdown",
   "metadata": {},
   "source": [
    "- 2-tier architecture:\n",
    "    - Client-server architecture\n",
    "    - many clients connect to 1 server\n",
    "    - example : database server and client\n",
    "- n-tier architecture\n",
    "    - One software, many layers\n",
    "    - Commonly: Presentation tier, Application tier (Business logic) , Data tier\n",
    "    - change in one tier do not affect the other tier\n",
    "    - example : Web apps\n",
    "- peer-to-peer\n",
    "    - Interconnected omponents in  a network\n",
    "    - each component is a node\n",
    "    - each node acts as both client and server\n",
    "    - peers both supply and consume resources\n",
    "    - used mainly for file sharing, messaging, hpc\n",
    "    - example: Torrent\n",
    "- Event-driven architecture\n",
    "    - event : Anything that results in change in state\n",
    "    - action is triggered by the end user\n",
    "    - producers react to triggers and produce an event\n",
    "    - consumer process the event and consumes the event\n",
    "    - producers publishes the event to the event router\n",
    "    - router knows which consumer the event should be pushed into\n",
    "    - the triggering event generates a message/notification to the consumer who needs the event\n",
    "    - example : Ride sharing app\n",
    "- Microservices\n",
    "    - components are broken into services\n",
    "    - used with APIs\n",
    "    - services talk to each other by APIs\n",
    "    - example: Social media sites\n"
   ]
  },
  {
   "cell_type": "markdown",
   "metadata": {},
   "source": [
    "# APPLICATION DEPLOYMENT ENVIRONMENTS"
   ]
  },
  {
   "cell_type": "markdown",
   "metadata": {},
   "source": [
    "- combination of hardware and software resources required to run an application\n",
    "- includes: code, software stack, networking infrastructure, hardware components\n",
    "- Pre-production environment:\n",
    "    - Development environment:\n",
    "        - Where application is coded\n",
    "        - eg: Developers workstation\n",
    "    - QA environment:\n",
    "        - Where application is tested\n",
    "        - eg: App component testing environment\n",
    "    - Staging environment:\n",
    "        - replicates real production environment\n",
    "        - However, it is not available for general users\n",
    "- Production environment\n",
    "    - includes entire solution stack with hardware and software\n",
    "    - intended for all users\n",
    "    - must take application load into consideration \n",
    "    - takes into account scalablity, security etc\n",
    "- On-premise deployment\n",
    "    - System and infrastructure reside in house\n",
    "    - More expensive\n",
    "    - organization is responsible for everything\n",
    "- Cloud deployment\n",
    "    - System and infrastructure reside in the cloud on demand\n",
    "    - resources are mostly shared (public) or can be dedicated (private) or can be both (hybrid)\n"
   ]
  },
  {
   "cell_type": "markdown",
   "metadata": {},
   "source": [
    "# Different types of servers"
   ]
  },
  {
   "cell_type": "markdown",
   "metadata": {},
   "source": [
    "- Servers:\n",
    "    - provides data, services, resources or applications to the client\n",
    "- Web Servers:\n",
    "    - Delivers web pages, images, videos to the client\n",
    "    - Responds to HTTP request\n",
    "- App server\n",
    "    - Runs the business logic (application itself)\n",
    "    - provides application to the client\n",
    "    - enables interaction between clients and the application code\n",
    "- Proxy server\n",
    "    - an intermediate server that handles request between 2 tiers\n",
    "    - enables additional behaviors\n",
    "    - used for : load balancing, firewalls, caching, encrypting resources etc.\n",
    "- Database server\n",
    "    - server where data resides\n",
    "    - controls the flow of data\n",
    "    - DBMS connects the database server to the application"
   ]
  }
 ],
 "metadata": {
  "language_info": {
   "name": "python"
  }
 },
 "nbformat": 4,
 "nbformat_minor": 2
}
