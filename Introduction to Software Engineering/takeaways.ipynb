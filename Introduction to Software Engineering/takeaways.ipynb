{
 "cells": [
  {
   "cell_type": "markdown",
   "metadata": {},
   "source": [
    "# Week 1"
   ]
  },
  {
   "cell_type": "markdown",
   "metadata": {},
   "source": [
    "### SDLC"
   ]
  },
  {
   "cell_type": "markdown",
   "metadata": {},
   "source": [
    "- Software Development Lifecycle\n",
    "- Systematic process to develop high-quality software in predictable time-frame and budget and meet client requirements\n",
    "- Team knows when development can move to next phase\n",
    "- Respond to changing requirements and solves problems early in the process\n",
    "- Phases\n",
    "    1. Planning\n",
    "        - Identifying stakeholders, establishing objectives, REQUIREMENTS GATHERING, documenting, analyzing, prioritizing\n",
    "        - Users, purpose, input/outputs, legal compliance, risk, quality assurance, resource allocation, scheduling, cost against time constraints, roles of team members for producing Solution\n",
    "    2. Designing\n",
    "        - Translate SRS into language that can be converted to code\n",
    "        - Breaks down requirements into sets of related components\n",
    "    3. Development\n",
    "        - When the developers start the coding process\n",
    "    4. Testing\n",
    "        - Code is thoroughly tested to ensure stability, security, performance, efficiency and requirement from SRS\n",
    "        - eg: Unit testing (for component), integration testing (for integrated components), system testing (for larger product) and acceptance testing (beta testing by end users)\n",
    "    5. Deployment\n",
    "        - Application is released into the production environment for users\n",
    "        - Alpha relese : May contain errors, have most functionalities, design changes may occur, relesed to selected few\n",
    "        - Beta relese : Meets all requirements, goal is to test under real conditions, relesed to all stakeholders\n",
    "        - General Availability relese : Stable release for all users\n",
    "    6. Maintenance\n",
    "        - Find other bugs, issues, code enhancements, new and changing requirements"
   ]
  },
  {
   "cell_type": "markdown",
   "metadata": {},
   "source": [
    "# Agile vs Waterfall"
   ]
  },
  {
   "cell_type": "markdown",
   "metadata": {},
   "source": [
    "- Waterfall model :\n",
    "    - Sequential appraoch\n",
    "    - Customer cannot see the product unless testing phase\n",
    "    - Major version release requires too long to process all the steps sequentially all over again\n",
    "    - Changing requirement during development is hard\n",
    "- Agile  model :\n",
    "    - Iterative, cyclical approach\n",
    "    - Accomodates changes\n",
    "    - Each phase is short\n",
    "    - Teams work in cycles or sprints\n",
    "    - Unit Testing happens in each sprint to minimize risk of failure\n",
    "    - At the end of each sprint, a chunk of working code is released called the sprint demo (stakeholders see the functionalities and provide feedback)\n",
    "    - After several sprint cycle, a Minimul Viable Product (MVP) is released"
   ]
  },
  {
   "cell_type": "markdown",
   "metadata": {},
   "source": [
    "### Software Versioning"
   ]
  },
  {
   "cell_type": "markdown",
   "metadata": {},
   "source": [
    "- version < 1 are beta release\n",
    "- version = 1 are first major release\n",
    "- version meaning: major_release.minor_change.minor_bug_fix_or_patch.build_no_or_less_significant_change\n",
    "- Alpha relese : May contain errors, have most functionalities, design changes may occur, relesed to selected few\n",
    "- Beta relese : Meets all requirements, goal is to test under real conditions, relesed to all stakeholders\n",
    "- General Availability relese : Stable release for all users"
   ]
  },
  {
   "cell_type": "markdown",
   "metadata": {},
   "source": [
    "### Software testing"
   ]
  },
  {
   "cell_type": "markdown",
   "metadata": {},
   "source": [
    "- Practice of integral quality check throughout the SDLC (Software Development Life-Cycle)\n",
    "- Purpose : To ensure error-free software and ensure requirements\n",
    "- Test Cases : Used to verify requirements and functionality. Requires Steps, Data, input and expected output.\n",
    "- Functional Testing : \n",
    "    - Only input and output matters here.\n",
    "- Non-Functional Testing : \n",
    "    - Testing for security, Performance,  Scalability and Availability\n",
    "- Regression Testing : \n",
    "    - Confirms that change does not break down the existing architecture\n",
    "- Levels of testing:\n",
    "    - Unit Testing: Test an independent module of a code or function. Intended to eliminate error before integration\n",
    "    - Integration Testing : Tested when multiplle independent modules are combined. Intended to eliminate bugs when modules interact with each other.\n",
    "    - System Testing: Occurs after  integration testing. Used to validate the fully functional software. Done in staging environment.\n",
    "    - Acceptance Testing: Formal testing that verifies that the software satisfies the users, customers and stakeholders. Basically done by end users."
   ]
  },
  {
   "cell_type": "markdown",
   "metadata": {},
   "source": [
    "### Software Documentations"
   ]
  },
  {
   "cell_type": "markdown",
   "metadata": {},
   "source": [
    "- Information about the software that describes what the product is and how to use it.\n",
    "- It can be written assets, video or graphical assets\n",
    "- Can be written for users, developers, qa engineers etc\n",
    "- Must be kept up to date\n",
    "- Product Documentation : \n",
    "    - How the product functions\n",
    "- Process Documentation : \n",
    "    - How to complete a task or process\n",
    "    - Can be in form of flowchart, hierarchical or step by step instruction\n",
    "- Requirement Documentation : \n",
    "    - Software requirements specification, System requirements specification and User Acceptance specification\n",
    "- Design Documentation:\n",
    "    - Written by architects or developer team that consists of both conceptual and technical design\n",
    "- Technical Documentation\n",
    "    - Ideas or thoughts during implementation (eg: Comments in the code)\n",
    "- Quality Assurance Documentation\n",
    "    - Includes test plans, test data, test scenarios, test cases, test strategies, traceability matrices\n",
    "- User Documentation\n",
    "    - Intended for end users\n",
    "    - Includes FAQs, installation, help guides, user manuals etc"
   ]
  },
  {
   "cell_type": "markdown",
   "metadata": {},
   "source": [
    "### Software Engineering Job Roles"
   ]
  },
  {
   "cell_type": "markdown",
   "metadata": {},
   "source": [
    "- Project Manager\n",
    "    - Scrum Master or project manager\n",
    "- Stakeholder\n",
    "    - End users\n",
    "    - Participate in beta and acceptance testing\n",
    "- Software Architect\n",
    "    - System Architect or Solution architect\n",
    "    - Design inner structure\n",
    "- UX Designer\n",
    "    - Defines how the software behaves from users perspective\n",
    "- Developer\n",
    "    - Writes code and implements the design\n",
    "- Tester\n",
    "    - Ensure quality of product\n",
    "    - Write and execute test cases and provide feedback\n",
    "- Ops Engineer\n",
    "    - Site Reliability Engineer\n",
    "    - Automate system\n",
    "- Product Manager\n",
    "    - Ensures that product provides value to the stakeholders\n",
    "- Technical Writer\n",
    "    - Writes documentation for the end user\n",
    "    - Writes user manuals, reports, white papers etc"
   ]
  }
 ],
 "metadata": {
  "language_info": {
   "name": "python"
  }
 },
 "nbformat": 4,
 "nbformat_minor": 2
}
