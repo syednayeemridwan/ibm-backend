{
 "cells": [
  {
   "cell_type": "markdown",
   "metadata": {},
   "source": [
    "# Website Basics"
   ]
  },
  {
   "cell_type": "markdown",
   "metadata": {},
   "source": [
    "- HTML : Defines physical structure of a website\n",
    "- CSS : Defines look and feel of the website as well as cross browser/device compatibility\n",
    "- JavaScript : Defines interactivity and dynamic contents in the website\n",
    "- Static contents: previously loaded and fixed contents\n",
    "- Dynamic contents : Generated on request\n",
    "- Cloud apps:\n",
    "    - Same as websites\n",
    "    - Built to work on cloud infra-structure and cloud services\n",
    "- Front-End : \n",
    "    - Client side development\n",
    "    - User Interface\n",
    "- Back-End : \n",
    "    - Server side development\n",
    "    - Application logic development\n",
    "- Full-Stack : Front-End + Back-End\n",
    "- SASS\n",
    "    - allows variables, nested rules, inline imports\n",
    "    - Faster\n",
    "    - extension of CSS\n",
    "- LESS\n",
    "    - Enhances CSS\n",
    "    - Less.js is a javascript tool that converts Less styles to CSS styles\n",
    "- Reactive websites : Provides more information when opened on a pc than a opened on a mobile device\n",
    "- Responsive design : Automatically resize according to the device screen\n",
    "- API:\n",
    "    - A set of rules and protocols that allows different software applications to communicate with each other.\n",
    "    - Used to access and manipulate resources\n",
    "    - generally works with data\n",
    "    - used in form of xml or JSON\n",
    "    - eg : `{id: 42, type: employee, company: 5}`\n",
    "- Route : \n",
    "    - Defines when a particular URL is accessed, how request should be processed, and what response should be returned\n",
    "    - path of a webpage or website\n",
    "    - A layer above API, can be used alongside with API to include the API's functionality\n",
    "    - eg: `localhost:8080/employees/42`\n",
    "- Endpoint:\n",
    "    - The gateway or port that allows/exposes communication channel\n",
    "    - API or Route\n",
    "    - eg: `GET localhost:8080/employees/42`"
   ]
  },
  {
   "cell_type": "markdown",
   "metadata": {},
   "source": [
    "# Teamwork"
   ]
  },
  {
   "cell_type": "markdown",
   "metadata": {},
   "source": [
    "- Known as Squad (Agile development)\n",
    "- Each person is good at different things\n",
    "- collaborating optimizes the success\n",
    "- Communication is the key to success\n",
    "- Agree on roles to avoid duplicates or mis-tasks\n",
    "- Encourage creativity\n",
    "- Opportunity to gain knowledge\n",
    "- Resolve more issues\n",
    "- More coherent solution\n",
    "- More scope to take risks, since there is someone to backup "
   ]
  },
  {
   "cell_type": "markdown",
   "metadata": {},
   "source": [
    "# Pair Programming"
   ]
  },
  {
   "cell_type": "markdown",
   "metadata": {},
   "source": [
    "- two persons, one computer\n",
    "- physically or shared screen\n",
    "- Swap roles \n",
    "- Agile development technique\n",
    "- Driver Navigator :\n",
    "    - Driver writes the code\n",
    "    - Navigator reviews the code\n",
    "- Ping pong\n",
    "    - One developer writes a test\n",
    "    - The second developer writes code to pass the test\n",
    "- Strong style\n",
    "    - Senior programmer is a navigator\n",
    "    - Junior programmer is a driver"
   ]
  },
  {
   "cell_type": "markdown",
   "metadata": {},
   "source": [
    "# Software development tools"
   ]
  },
  {
   "cell_type": "markdown",
   "metadata": {},
   "source": [
    "- Version Control Systems:\n",
    "    - keep track of codes\n",
    "    - eg : Git\n",
    "- Library\n",
    "    - Re-usable code\n",
    "    - You are in control of customization for building applications\n",
    "    - You can follow your own rule\n",
    "    - You call the library functions\n",
    "    - You can add as much libraries as you want\n",
    "    - eg: React, Apache Commons\n",
    "- Framework:\n",
    "    - Provides skeleton or predefined standard infrastructure to build applications\n",
    "    - Framework itself is in control of building application than  the  developer (Inversion of Control)\n",
    "    - You only follow the standard opinionated rule that the framework goes by\n",
    "    - Framework calls your code\n",
    "    - You can use one framework to build an application at a time\n",
    "    - eg: django, Angular\n",
    "- CI/CD\n",
    "    - Implemented through build automation server\n",
    "    - CI : Continuous Integration of code. It automatically builds and tests code.\n",
    "    - CD : Continuous Delivery or Continuous Deployment of code. It deploys the successful changes\n",
    "- Build Tools:\n",
    "    - Transforms source code into binaries for installation\n",
    "    - Organizes source code\n",
    "    - Important for interconnected projects\n",
    "    - Helps automation (compiling, running tests, packaging, downloading dependencies)\n",
    "    - eg: Webpack, Babel\n",
    "    - Build Automation Utility : Generate build artifacts like executables\n",
    "    - Build Automation Server : Executes build automation utilities on timely or triggered basis\n",
    "- Package:\n",
    "    - Archive files that contain app file as well as metadata and dependencies\n",
    "    - helps to install apps easility\n",
    "- Package managers:\n",
    "    - Helps to install or uninstall packages\n",
    "    - Manage dependencies\n",
    "    - eg: npm, pip, rpm etc\n",
    "    "
   ]
  },
  {
   "cell_type": "markdown",
   "metadata": {},
   "source": [
    "<center><img src=\"images/02.01.png\"  style=\"width: 400px, height: 300px;\"/></center>\n",
    "<center><img src=\"images/02.02.png\"  style=\"width: 400px, height: 300px;\"/></center>"
   ]
  },
  {
   "cell_type": "markdown",
   "metadata": {},
   "source": [
    "# Technology and Software Stack"
   ]
  },
  {
   "cell_type": "markdown",
   "metadata": {},
   "source": [
    "- Technologies\n",
    "    - Broader term\n",
    "    - Includes software stack, Infrastucture and Hardware\n",
    "- Software Stack\n",
    "    - Combination of technologies used to create software applications\n",
    "    - Includes Front End technologies and Back End technologies\n",
    "    - Examples:\n",
    "        1. Python-django\n",
    "        2. Ruby on Rails\n",
    "        3. MEAN (Mongo, Express, Angular, Node)\n",
    "        4. MERN (Mongo, Express, React, Node)\n",
    "        5. MEVN (Mongo, Express, Vue, Node)\n",
    "        6. LAMP (Linux, Apache, MySQL, PHP)\n",
    "        6. LAPP (Linux, Apache, PostGreSQL, Python)\n"
   ]
  }
 ],
 "metadata": {
  "language_info": {
   "name": "python"
  }
 },
 "nbformat": 4,
 "nbformat_minor": 2
}
