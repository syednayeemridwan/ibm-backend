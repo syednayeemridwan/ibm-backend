{
 "cells": [
  {
   "cell_type": "markdown",
   "metadata": {},
   "source": [
    "# SDLC"
   ]
  },
  {
   "cell_type": "markdown",
   "metadata": {},
   "source": [
    "- Software Development Lifecycle\n",
    "- Systematic process to develop high-quality software in predictable time-frame and budget\n",
    "- Goal : Meet client requirements\n",
    "- Cycle of planning, designing and development with minimized cost and risk\n",
    "- Initially used waterfall model, later adapted to iterative approach\n",
    "- Facilitates communications among stakeholders\n",
    "- Team knows when development can move to next phase\n",
    "- Respond to changing requirements and solves problems early in the process\n",
    "- Reduces overlapping responsibilities\n",
    "- Phases\n",
    "    1. Planning\n",
    "        - Identifying stakeholders, establishing objectives, REQUIREMENTS GATHERING, documenting, analyzing, prioritizing\n",
    "        - Users, purpose, input/outputs, legal compliance, risk, quality assurance, resource allocation, scheduling, cost against time constraints, roles of team members for producing Solution\n",
    "         - SRS Software Requirements Specification: functionalities, benchmark, purpose, scope, constraints, assumptions, dependencies\n",
    "         - URS User Requirements Specification: Business needs and end user expectations, Acceptance testing, Often combined with SRS. \n",
    "         - SysRS System Requirements Specification: Broader than SRS, include policy, regulations, security, performance\n",
    "        - Making prototype : small-scale replica to clarify requirement and test basic design ideas\n",
    "    2. Designing\n",
    "        - Requirements from SRS are gathered to develop architecture\n",
    "        - Translate SRS into language that can be converted to code\n",
    "        - Breaks down requirements into sets of related components\n",
    "        - Communicates business rules and application logics\n",
    "        - Prototype of the system can be developed to demonstrate the system \n",
    "        - The document in this phase is called Design Document which is used in the Development phase\n",
    "    3. Development\n",
    "        - When the developers start the coding process\n",
    "        - Ensures code quality : readable, testable, maintainable and secured. Efficient and well-documented nontheless.\n",
    "    4. Testing\n",
    "        - Code is thoroughly tested to ensure stability, security, performance, efficiency and requirement from SRS\n",
    "        - Bugs reported, tracked, fixed and re-tested. Also, gaps, errors and missing requirements are identified\n",
    "        - Can be automatic or manually\n",
    "        - eg: Unit testing (for component), integration testing (for integrated components), system testing (for larger product) and acceptance testing (beta testing by end users)\n",
    "    5. Deployment\n",
    "        - Application is released into the production environment for users\n",
    "        - Making software available for use\n",
    "        - Alpha relese : May contain errors, have most functionalities, design changes may occur, relesed to selected few\n",
    "        - Beta relese : Meets all requirements, goal is to test under real conditions, relesed to all stakeholders\n",
    "        - General Availability relese : Stable release for all users\n",
    "    5. Maintenance\n",
    "        - Find other bugs, issues, code enhancements, new and changing requirements"
   ]
  },
  {
   "cell_type": "markdown",
   "metadata": {},
   "source": [
    "# Different Models"
   ]
  },
  {
   "cell_type": "markdown",
   "metadata": {},
   "source": [
    "- Waterfall model :\n",
    "    - Sequential appraoch\n",
    "    - Customer cannot see the product unless testing phase\n",
    "    - Major version release requires too long to process all the steps sequentially all over again\n",
    "    - Changing requirement during development is hard\n",
    "- V-shaped  model :\n",
    "    - Sequential approach\n",
    "    - Each phase in verification corresponds validation phase\n",
    "    - Changing requirement during development is hard\n",
    "    - Tests is written in verification and executed in validation phase\n",
    "- Agile  model :\n",
    "    - Iterative, cyclical approach\n",
    "    - Accomodates changes\n",
    "    - Each phase is short\n",
    "    - Teams work in cycles or sprints\n",
    "    - Unit Testing happens in each sprint to minimize risk of failure\n",
    "    - At the end of each sprint, a chunk of working code is released called the sprint demo (stakeholders see the functionalities and provide feedback)\n",
    "    - After several sprint cycle, a Minimul Viable Product (MVP) is released"
   ]
  },
  {
   "cell_type": "markdown",
   "metadata": {},
   "source": [
    "<center><img src=\"images/01.01.png\"  style=\"width: 400px, height: 300px;\"/></center>\n",
    "<center><img src=\"images/01.02.png\"  style=\"width: 400px, height: 300px;\"/></center>\n",
    "<center><img src=\"images/01.04.png\"  style=\"width: 400px, height: 300px;\"/></center>"
   ]
  },
  {
   "cell_type": "markdown",
   "metadata": {},
   "source": [
    "# Software Versions"
   ]
  },
  {
   "cell_type": "markdown",
   "metadata": {},
   "source": [
    "- version < 1 are beta release\n",
    "- version = 1 are first major release\n",
    "- version meaning: major_release.minor_change.minor_bug_fix_or_patch.build_no_or_less_significant_change"
   ]
  },
  {
   "cell_type": "markdown",
   "metadata": {},
   "source": [
    "# Software Testing"
   ]
  },
  {
   "cell_type": "markdown",
   "metadata": {},
   "source": [
    "- Practice of integral quality check throughout the SDLC (Software Development Life-Cycle)\n",
    "- Purpose : To ensure error-free software and ensure requirements\n",
    "- Test Cases : Used to verify requirements and functionality. Requires Steps, Data, input and expected output.\n",
    "- Functional Testing : \n",
    "    - Black Box testing \n",
    "    - Done without looking at source code or internal structure. \n",
    "    - Used to make sure that software handles exceptions or edge cases seamlessly. \n",
    "    - Only input and output matters here.\n",
    "- Non-Functional Testing : \n",
    "    - Testing for security, \n",
    "    - Performance, \n",
    "    - Scalability and \n",
    "    - Availability\n",
    "- Regression Testing : \n",
    "    - Maintainance testing\n",
    "    - Confirms that change does not break down the existing architecture\n",
    "    - Happens when there is change in requirements or a bug is fixed.\n",
    "- Levels of testing:\n",
    "    - Unit Testing: Test an independent module of a code or function. Intended to eliminate error before integration\n",
    "    - Integration Testing : Tested when multiplle independent modules are combined. Intended to eliminate bugs when modules interact with each other.\n",
    "    - System Testing: Occurs after  integration testing. Used to validate the fully functional software. Done in staging environment.\n",
    "    - Acceptance Testing: Formal testing that verifies that the software satisfies the users, customers and stakeholders. Basically done by end users."
   ]
  },
  {
   "cell_type": "markdown",
   "metadata": {},
   "source": [
    "# Documentation"
   ]
  },
  {
   "cell_type": "markdown",
   "metadata": {},
   "source": [
    "- Information about the software that describes what the product is and how to use it.\n",
    "- It can be written assets, video or graphical assets\n",
    "- Can be written for users, developers, qa engineers etc\n",
    "- Must be kept up to date\n",
    "- Product Documentation : \n",
    "    - How the product functions\n",
    "- Process Documentation : \n",
    "    - How to complete a task\n",
    "    - Standard Operating Procedures (SOP)\n",
    "    - instruction to accomplish common or complex tasks\n",
    "    - Can be in form of flowchart, hierarchical or step by step instruction\n",
    "- Requirement Documentation : \n",
    "    - Done during the planning phase of SDLC\n",
    "    - Describes expected functionalities of the software system\n",
    "    - Software requirements specification, System requirements specification and User Acceptance specification\n",
    "- Design Documentation:\n",
    "    - Written by architects or developer team\n",
    "    - Specifies how the software will be built to meet requirements\n",
    "    - Consists of both conceptual and technical design document\n",
    "- Technical Documentation\n",
    "    - Comments in the code\n",
    "    - Helps readability for other developers\n",
    "    - May also document ideas or thoughts during implementation\n",
    "- Quality Assurance Documentation\n",
    "    - includes the testing team's strategy, progress and metrics\n",
    "    - Includes test plans, test data, test scenarios, test cases, test strategies, traceability matrices\n",
    "- User Documentation\n",
    "    - Intended for end users\n",
    "    - Explains how to operate the software\n",
    "    - Also specifies installation process or troubleshooting system\n",
    "    - Includes FAQs, installation, help guides, user manuals etc"
   ]
  },
  {
   "cell_type": "markdown",
   "metadata": {},
   "source": [
    "# Software Engineering Job Roles"
   ]
  },
  {
   "cell_type": "markdown",
   "metadata": {},
   "source": [
    "- Project Manager\n",
    "    - Scrum Master\n",
    "    - Planning, scheduling, budgeting, resource allocation\n",
    "    - Execute software plan\n",
    "    - Ensure Team communication and team success\n",
    "- Stakeholder\n",
    "    - End users\n",
    "    - Define project requirements\n",
    "    - Give feedbacks\n",
    "    - Participate in beta and acceptance testing\n",
    "- Software Architect\n",
    "    - System Architect or Solution architect\n",
    "    - Provides technical support\n",
    "    - Design inner structure\n",
    "- UX Designer\n",
    "    - Design to make software intuitive\n",
    "    - Defines how the software behaves from users perspective\n",
    "- Developer\n",
    "    - Writes code\n",
    "    - Implement the design\n",
    "- Tester\n",
    "    - QA Engineer\n",
    "    - Ensure quality of product\n",
    "    - Write and execute test cases and provide feedback\n",
    "- Ops Engineer\n",
    "    - Site Reliability Engineer\n",
    "    - Bridge between software expertise and IT systems management\n",
    "    - Automate system\n",
    "    - Assist in troubleshooting issues\n",
    "    - Ensures product reliability\n",
    "- Product Manager\n",
    "    - May also be a product owner\n",
    "    - Ensures that product provides value to the stakeholders\n",
    "- Technical Writer\n",
    "    - Information Developer\n",
    "    - Writes documentation for the end user\n",
    "    - Writes user manuals, reports, white papers etc"
   ]
  }
 ],
 "metadata": {
  "language_info": {
   "name": "python"
  }
 },
 "nbformat": 4,
 "nbformat_minor": 2
}
