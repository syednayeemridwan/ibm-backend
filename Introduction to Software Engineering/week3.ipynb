{
 "cells": [
  {
   "cell_type": "markdown",
   "metadata": {},
   "source": [
    "# Interpreted vs Compiled Programming Languages"
   ]
  },
  {
   "cell_type": "markdown",
   "metadata": {},
   "source": [
    "- Interpreted Programming Language\n",
    "    - Scripting Language\n",
    "    - Interpreter program is required to translate the scripts into machine code\n",
    "    - Code is executed line by line on each run\n",
    "    - Code in one computer, run anywhere\n",
    "    - eg : JavaScript, python, HTML\n",
    "- Compiled Programming Language\n",
    "    - programs are compiled into one large program\n",
    "    - Source code is packaged into one executable file\n",
    "    - Runs faster after compilation\n",
    "    - Source code should be compiled / executable should be installed into the specific device to run\n",
    "    - eg: Java. C++ etc\n"
   ]
  },
  {
   "cell_type": "markdown",
   "metadata": {},
   "source": [
    "# Query and Assembly Language"
   ]
  },
  {
   "cell_type": "markdown",
   "metadata": {},
   "source": [
    "- Query Language\n",
    "    - High level language (More understandable aand human rreadable)\n",
    "    - Also known as database query language\n",
    "    - Information querying language for database\n",
    "    - eg: SQL, AQL, CQL, NoSQL\n",
    "- Assembly Language\n",
    "    - Low level laanguage (Uses sets of symbols to represent machine code 0 or 1)\n",
    "    - One statement is translated to one machine code instruction\n",
    "    - Tied to CPU architecture\n",
    "    - eg : ARM"
   ]
  },
  {
   "cell_type": "markdown",
   "metadata": {},
   "source": [
    "# Flowchart and Pseudocode"
   ]
  },
  {
   "cell_type": "markdown",
   "metadata": {},
   "source": [
    "- Both are used for code organization\n",
    "- Flowchart\n",
    "    - Pictorial representation of code instruction\n",
    "    - Symbols and arrows are used\n",
    "    - Easy method of communicating logic\n",
    "- Pseudocode\n",
    "    - High level description of algorithm in step by step process\n",
    "    - Closely follows logic and bridges for original code\n",
    "    - Describes what each line of code should do\n",
    "\n",
    "<center><img src=\"images/03.01.png\"  style=\"width: 400px, height: 300px;\"/></center>\n",
    "<center><img src=\"images/03.02.png\"  style=\"width: 400px, height: 300px;\"/></center>"
   ]
  },
  {
   "cell_type": "markdown",
   "metadata": {},
   "source": [
    "# Branching and Looping"
   ]
  },
  {
   "cell_type": "markdown",
   "metadata": {},
   "source": [
    "- Branching : One action\n",
    "    - If-else\n",
    "    - swritch\n",
    "- Looping: Sequence of actions\n",
    "    - While\n",
    "    - Do.. while .. finally\n",
    "    - For loop\n"
   ]
  },
  {
   "cell_type": "markdown",
   "metadata": {},
   "source": [
    "# Identifiers and Containers"
   ]
  },
  {
   "cell_type": "markdown",
   "metadata": {},
   "source": [
    "- Identifiers (For referencing program components)\n",
    "    - stored values (constants or variables)\n",
    "    - methods\n",
    "    - interfaces\n",
    "    - classes\n",
    "- containers\n",
    "    - array (fixed no of elements, sequential memory)\n",
    "    - vector (dynamic arrays, not sequence in memory)"
   ]
  },
  {
   "cell_type": "markdown",
   "metadata": {},
   "source": [
    "# Functions and Objects"
   ]
  },
  {
   "cell_type": "markdown",
   "metadata": {},
   "source": [
    "- Functions\n",
    "    - also known as subroutines, procedures, methods, modules etc\n",
    "    - structured, stand-alone, re-usable codes that do a specified task\n",
    "- Objects\n",
    "    - Data is in form of attributes (or variables)\n",
    "    - Behaviours are in form of methods (or functions)"
   ]
  }
 ],
 "metadata": {
  "language_info": {
   "name": "python"
  }
 },
 "nbformat": 4,
 "nbformat_minor": 2
}
