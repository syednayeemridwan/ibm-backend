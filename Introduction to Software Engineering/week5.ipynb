{
 "cells": [
  {
   "cell_type": "markdown",
   "metadata": {},
   "source": [
    "# Daily Routine of a typical Software Engineer"
   ]
  },
  {
   "cell_type": "markdown",
   "metadata": {},
   "source": [
    "- Catch up with message and calendars\n",
    "- Check code merge request from previous day\n",
    "- Attend Daily stand up meeting\n",
    "- Implement feedback and develop yesterday's code\n",
    "    - re-engineer code  for increased profeciency\n",
    "    - new merge request\n",
    "    - Ask for review\n",
    "- Meeting with other stakeholders\n",
    "    - Plan for minimum viable product\n",
    "    - get hands on experience on new skill and technology\n",
    "- Check reports\n",
    "- Solve bugs using new feedbacks\n",
    "- test new  code\n",
    "- Learn new technology during spare time"
   ]
  },
  {
   "cell_type": "markdown",
   "metadata": {},
   "source": [
    "# Hard and Soft Skills"
   ]
  },
  {
   "cell_type": "markdown",
   "metadata": {},
   "source": [
    "- Hard Skills : Technical skills\n",
    "    - Programming language\n",
    "    - Version control\n",
    "    - Cloud computing\n",
    "    - Testing\n",
    "    - Monitoring\n",
    "    - Troubleshooting\n",
    "    - Agile development\n",
    "    - Database architecture\n",
    "- Soft Skills : non-technical skills\n",
    "    - Teamwork (take advantage of strengths and gain new skills and knowledge)\n",
    "    - Communication (with stakeholders and peers)\n",
    "    - Time-management skills\n",
    "    - Problem-solving mindset\n",
    "    - Manage issues\n",
    "    - Locate and resolve bug\n",
    "    - Adaptibility to client requirement for a change\n",
    "    - Best practices (TDD)"
   ]
  },
  {
   "cell_type": "markdown",
   "metadata": {},
   "source": [
    "# Career path in Software Engineering"
   ]
  },
  {
   "cell_type": "markdown",
   "metadata": {},
   "source": [
    "- 2 ways\n",
    "    1. Technical : Coding conccentration\n",
    "    2. Management : Leadership quality concentration\n",
    "- Junior Software Engineers \n",
    "    - small chunk of code development\n",
    "    - steep learning curve\n",
    "- Software Engineer\n",
    "    - break larger task into smaller tasks\n",
    "    - mentor junio software engineers\n",
    "    - learn new language\n",
    "- Senior Software Engineer\n",
    "    - Conduct code reviews\n",
    "    - mentor software engineers\n",
    "    - Solve and guide problems solving efficiently\n",
    "- Staff Software Engineer\n",
    "    - Develop, maintain and extend software\n",
    "    - Ensure expectations and resource efficiency\n",
    "- Technical Lead\n",
    "    - Manage teams of developers \n",
    "    - Responsible for entire development lifecycle\n",
    "    - Report to stakeholder\n",
    "- Technical Architect / Principal Engineer / Engineering Manager\n",
    "    - Architecture and design of software solution\n",
    "    - Provide technical direction to the team\n",
    "    - Support team and encourage members\n",
    "- Director of Engineering\n",
    "    - Strategic : Hiring, goal settings , project priority\n",
    "    - Technical : New project, Requirement and design, oversee project\n",
    "- Chief Technology Officer\n",
    "    - Oversee all research and development\n",
    "    - Monitor company and review budget and need"
   ]
  },
  {
   "cell_type": "markdown",
   "metadata": {},
   "source": [
    "# Common job titles"
   ]
  },
  {
   "cell_type": "markdown",
   "metadata": {},
   "source": [
    "- Front-end engineer : Develop user interface\n",
    "- Back-end engineer : Develop business logic\n",
    "- Full-stack engineer: both front-end and back-end\n",
    "- DevOps engineer : combine software development and IT operations\n",
    "- Quality Assurance engineers : Automated / Manual Testing\n",
    "- Software Integration engineers : Working with IoT devices and interfaces\n",
    "- Software security engineers : search for security flaws and vulnerability\n",
    "- Mobile App Engineer : Application development for mobile devices for both UI and backend\n",
    "- Game Engineers : Develop games and related stuffs like graphics, sound effect for different devices"
   ]
  },
  {
   "cell_type": "markdown",
   "metadata": {},
   "source": [
    "# Code of Ethics"
   ]
  },
  {
   "cell_type": "markdown",
   "metadata": {},
   "source": [
    "1. public good should be kept into account\n",
    "    - safety\n",
    "    - fairness\n",
    "    - accessibility\n",
    "    - integrity\n",
    "2. Software Engineers should act in the best interest of both clients and employers\n",
    "    - honest\n",
    "    - confidentiality\n",
    "    - seek consent\n",
    "3. Quality should be a priority\n",
    "    - Cost\n",
    "    - Timeline\n",
    "4. Professional judgement\n",
    "    - Do no accept duties that creates conflict of interests\n",
    "    - Do not engage in inappropriate financial activities\n",
    "5. Management\n",
    "    - minimize risk\n",
    "    - ensure realistic expectations\n",
    "    - provide just compensation\n",
    "6. Profession\n",
    "    - Not elevate in expense of others\n",
    "    - Express concern over violation of code of conduct\n",
    "7. Colleagues\n",
    "    - Not take credit for work of others\n",
    "    - Deal with fairness\n",
    "8. Self\n",
    "    - Lifelong learning\n",
    "    - strive to conduct in professional manner"
   ]
  }
 ],
 "metadata": {
  "language_info": {
   "name": "python"
  }
 },
 "nbformat": 4,
 "nbformat_minor": 2
}
